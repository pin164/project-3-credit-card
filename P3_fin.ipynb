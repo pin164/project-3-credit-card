{
 "cells": [
  {
   "cell_type": "code",
   "execution_count": 1,
   "id": "6cd11f6f-648b-4694-8e64-0ab542b0f7be",
   "metadata": {},
   "outputs": [],
   "source": [
    "# Dependencies and Setup\n",
    "import pandas as pd\n",
    "from pathlib import Path\n",
    "\n",
    "# -------------------read CSV \n",
    "# File to Load \n",
    "# assume the original data file will be in a Resources folder in Github\n",
    "file_data_to_to_load = Path(\"Resources/UCI_Credit_Card.csv\")\n",
    "\n",
    "# Read Credit Card Data File and store into Pandas DataFrames\n",
    "df = pd.read_csv(file_data_to_to_load)\n",
    "\n"
   ]
  },
  {
   "cell_type": "code",
   "execution_count": 2,
   "id": "6c62286a-88ce-46cc-ab23-44f8ebac1cc0",
   "metadata": {},
   "outputs": [],
   "source": [
    "# -------------------MONTHY Spend columns\n",
    "# Add the new column 'SPEND1-september spend SPENd2 - august spend.... '\n",
    "df['SPEND1'] = df['BILL_AMT1'] + df['PAY_AMT1'] - df['BILL_AMT2']\n",
    "df['SPEND2'] = df['BILL_AMT2'] + df['PAY_AMT2'] - df['BILL_AMT3']\n",
    "df['SPEND3'] = df['BILL_AMT3'] + df['PAY_AMT3'] - df['BILL_AMT4']\n",
    "df['SPEND4'] = df['BILL_AMT4'] + df['PAY_AMT4'] - df['BILL_AMT5']\n",
    "df['SPEND5'] = df['BILL_AMT5'] + df['PAY_AMT5'] - df['BILL_AMT6']\n"
   ]
  },
  {
   "cell_type": "code",
   "execution_count": 3,
   "id": "a7fca493-5654-4beb-96fb-134182351be8",
   "metadata": {},
   "outputs": [],
   "source": [
    "# -------------------Available columns  Assume Credit limit doesn't change for 6 months\n",
    "# Add the new column 'Available_credit1-september  Available_credit2 - august .... '\n",
    "df['Available_credit1'] = df['LIMIT_BAL'] - df['BILL_AMT1']\n",
    "df['Available_credit2'] = df['LIMIT_BAL'] - df['BILL_AMT2']\n",
    "df['Available_credit3'] = df['LIMIT_BAL'] - df['BILL_AMT3']\n",
    "df['Available_credit4'] = df['LIMIT_BAL'] - df['BILL_AMT4']\n",
    "df['Available_credit5'] = df['LIMIT_BAL'] - df['BILL_AMT5']\n",
    "df['Available_credit6'] = df['LIMIT_BAL'] - df['BILL_AMT6']"
   ]
  },
  {
   "cell_type": "code",
   "execution_count": 4,
   "id": "e2c55cec-0633-4b1c-b40e-77a505124ba4",
   "metadata": {},
   "outputs": [],
   "source": [
    "# -------------------% of limit spent at month end  Assume Credit limit doesn't change for 6 months\n",
    "# Add the new column 'Percent_limit_spent1-september month end balance/credit limit Percent_limit_spent2- august month end balance/credit limit Available_credit2 - august .... ' '\n",
    "df['Percent_limit_spent1'] = df['BILL_AMT1'] / df['LIMIT_BAL']\n",
    "df['Percent_limit_spent2'] = df['BILL_AMT2'] / df['LIMIT_BAL']\n",
    "df['Percent_limit_spent3'] = df['BILL_AMT3'] / df['LIMIT_BAL']\n",
    "df['Percent_limit_spent4'] = df['BILL_AMT4'] / df['LIMIT_BAL']\n",
    "df['Percent_limit_spent5'] = df['BILL_AMT5'] / df['LIMIT_BAL']\n",
    "df['Percent_limit_spent6'] = df['BILL_AMT6'] / df['LIMIT_BAL']"
   ]
  },
  {
   "cell_type": "code",
   "execution_count": 5,
   "id": "e816eb09-c8fb-4c35-9e5d-5df9d7d06221",
   "metadata": {},
   "outputs": [],
   "source": [
    "\n"
   ]
  },
  {
   "cell_type": "code",
   "execution_count": null,
   "id": "019f91dc-4224-4ac2-8577-d88f8e657e06",
   "metadata": {},
   "outputs": [],
   "source": []
  }
 ],
 "metadata": {
  "kernelspec": {
   "display_name": "Python 3 (ipykernel)",
   "language": "python",
   "name": "python3"
  },
  "language_info": {
   "codemirror_mode": {
    "name": "ipython",
    "version": 3
   },
   "file_extension": ".py",
   "mimetype": "text/x-python",
   "name": "python",
   "nbconvert_exporter": "python",
   "pygments_lexer": "ipython3",
   "version": "3.10.14"
  }
 },
 "nbformat": 4,
 "nbformat_minor": 5
}
